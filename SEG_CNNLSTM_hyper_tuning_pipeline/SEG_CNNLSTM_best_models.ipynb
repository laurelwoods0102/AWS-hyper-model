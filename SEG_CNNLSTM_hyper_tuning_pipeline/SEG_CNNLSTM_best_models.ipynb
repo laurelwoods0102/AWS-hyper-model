{
 "metadata": {
  "language_info": {
   "codemirror_mode": {
    "name": "ipython",
    "version": 3
   },
   "file_extension": ".py",
   "mimetype": "text/x-python",
   "name": "python",
   "nbconvert_exporter": "python",
   "pygments_lexer": "ipython3",
   "version": "3.7.6-final"
  },
  "orig_nbformat": 2,
  "kernelspec": {
   "name": "python_defaultSpec_1599785158975",
   "display_name": "Python 3.7.6 64-bit ('base': conda)"
  }
 },
 "nbformat": 4,
 "nbformat_minor": 2,
 "cells": [
  {
   "cell_type": "code",
   "execution_count": 16,
   "metadata": {},
   "outputs": [],
   "source": [
    "import tensorflow as tf\n",
    "from tensorflow import keras\n",
    "from tensorboard.plugins.hparams import api as hp_api\n",
    "import kerastuner\n",
    "import numpy as np\n",
    "import pandas as pd\n",
    "import os\n",
    "import json\n",
    "import datetime\n",
    "import dill\n",
    "import IPython"
   ]
  },
  {
   "cell_type": "code",
   "execution_count": 3,
   "metadata": {},
   "outputs": [],
   "source": [
    "from tensorflow.keras.layers import (\n",
    "    TimeDistributed, \n",
    "    Dense, \n",
    "    Conv1D, \n",
    "    MaxPooling1D, \n",
    "    Bidirectional, \n",
    "    LSTM, \n",
    "    Dropout\n",
    ")"
   ]
  },
  {
   "cell_type": "code",
   "execution_count": 4,
   "metadata": {},
   "outputs": [],
   "source": [
    "physical_devices = tf.config.list_physical_devices('GPU')\n",
    "tf.config.experimental.set_memory_growth(physical_devices[0], enable=True)"
   ]
  },
  {
   "cell_type": "code",
   "execution_count": 58,
   "metadata": {},
   "outputs": [
    {
     "output_type": "execute_result",
     "data": {
      "text/plain": "'20200911-114924'"
     },
     "metadata": {},
     "execution_count": 58
    }
   ],
   "source": [
    "timestamp = datetime.datetime.now().strftime(\"%Y%m%d-%H%M%S\")\n",
    "log_dir = \"logs/fit/\" + timestamp\n",
    "version_dir = \"version/\" + timestamp \n",
    "\n",
    "os.makedirs(log_dir)\n",
    "os.makedirs(version_dir)\n",
    "timestamp"
   ]
  },
  {
   "cell_type": "code",
   "execution_count": 8,
   "metadata": {},
   "outputs": [],
   "source": [
    "dataset_name = \"SEG_CNNLSTM\""
   ]
  },
  {
   "cell_type": "code",
   "execution_count": 38,
   "metadata": {},
   "outputs": [
    {
     "output_type": "execute_result",
     "data": {
      "text/plain": "{'PAST_HISTORY': 16,\n 'FUTURE_TARGET': 8,\n 'BATCH_SIZE': 1024,\n 'BUFFER_SIZE': 200000,\n 'EPOCHS': 500,\n 'VOCAB_SIZE': 16293}"
     },
     "metadata": {},
     "execution_count": 38
    }
   ],
   "source": [
    "with open(\"static/static_params.json\", 'r') as j:\n",
    "    static_params = json.load(j)\n",
    "\n",
    "with open(\"static/test_pipeline.pkl\", \"rb\") as p:\n",
    "    pipeline = dill.load(p)\n",
    "\n",
    "static_params[\"VOCAB_SIZE\"] = pipeline[\"sparse_category_encoder\"].vocab_size\n",
    "static_params"
   ]
  },
  {
   "cell_type": "code",
   "execution_count": 54,
   "metadata": {},
   "outputs": [],
   "source": [
    "# Hyper Parameters\n",
    "HP_BATCH_SIZE = hp_api.HParam('batch_size', hp_api.Discrete([1024]))\n",
    "#HP_EPOCHS = hp.HParam('epochs', hp.Discrete([500]))\n",
    "HP_CONV1D_FILTERS = hp_api.HParam('conv1d_filters', hp_api.Discrete([80]))\n",
    "HP_CONV1D_KERNEL_SIZE = hp_api.HParam('conv1d_kernel_size', hp_api.Discrete([3]))\n",
    "HP_CONV1D_DROPOUT = hp_api.HParam('conv1d_dropout', hp_api.Discrete([0.3]))\n",
    "HP_LSTM_1_UNITS = hp_api.HParam('lstm_1_units', hp_api.Discrete([40]))\n",
    "HP_LSTM_2_UNITS = hp_api.HParam('lstm_2_units', hp_api.Discrete([168]))\n",
    "HP_LSTM_1_DROPOUT = hp_api.HParam('lstm_1_dropout', hp_api.Discrete([0.3]))\n",
    "HP_LSTM_2_DROPOUT = hp_api.HParam('lstm_2_dropout', hp_api.Discrete([0.2]))\n",
    "HP_LEARNING_RATE = hp_api.HParam('learning_rate', hp_api.Discrete([1e-3]))\n",
    "\n",
    "\n",
    "with tf.summary.create_file_writer('logs/hparam_tuning').as_default():\n",
    "  hp_api.hparams_config(\n",
    "    hparams=[HP_BATCH_SIZE, HP_CONV1D_FILTERS, HP_CONV1D_KERNEL_SIZE, HP_CONV1D_DROPOUT, HP_LSTM_1_UNITS, HP_LSTM_2_UNITS, HP_LSTM_1_DROPOUT, HP_LSTM_2_DROPOUT, HP_LEARNING_RATE],\n",
    "    metrics=[hp_api.Metric('accuracy', display_name='Accuracy')],\n",
    "  )"
   ]
  },
  {
   "cell_type": "code",
   "execution_count": 55,
   "metadata": {},
   "outputs": [],
   "source": [
    "hparams = {\n",
    "    HP_CONV1D_FILTERS: HP_CONV1D_FILTERS.domain.values[0],\n",
    "    HP_CONV1D_KERNEL_SIZE: HP_CONV1D_KERNEL_SIZE.domain.values[0],\n",
    "    HP_CONV1D_DROPOUT: HP_CONV1D_DROPOUT.domain.values[0],\n",
    "    HP_LSTM_1_UNITS: HP_LSTM_1_UNITS.domain.values[0],\n",
    "    HP_LSTM_2_UNITS: HP_LSTM_2_UNITS.domain.values[0],\n",
    "    HP_LSTM_1_DROPOUT: HP_LSTM_1_DROPOUT.domain.values[0],\n",
    "    HP_LSTM_2_DROPOUT: HP_LSTM_2_DROPOUT.domain.values[0],\n",
    "    HP_LEARNING_RATE: HP_LEARNING_RATE.domain.values[0]\n",
    "}"
   ]
  },
  {
   "cell_type": "code",
   "execution_count": 56,
   "metadata": {},
   "outputs": [],
   "source": [
    "def generate_timeseries(dataset, start_index, end_index, history_size, target_size):\n",
    "    data = []\n",
    "    labels = []\n",
    "\n",
    "    start_index = start_index + history_size\n",
    "    if end_index is None:\n",
    "        end_index = len(dataset) - target_size\n",
    "\n",
    "    for i in range(start_index, end_index):\n",
    "        indices = range(i-history_size, i)\n",
    "        # Reshape data from (history_size,) to (history_size, n_feature)\n",
    "        data.append(np.reshape(dataset[indices], (history_size, 1)))\n",
    "        #data.append(dataset[indices])\n",
    "        labels.append(np.reshape(dataset[i:i+target_size], (target_size, 1)))\n",
    "        #labels.append(dataset[i:i+target_size])\n",
    "    return np.array(data), np.array(labels)"
   ]
  },
  {
   "cell_type": "code",
   "execution_count": 34,
   "metadata": {},
   "outputs": [],
   "source": [
    "train_set = np.r_[np.genfromtxt(\"data/SEG_train_set.csv\", delimiter=\"\\n\", dtype=np.float32), np.genfromtxt(\"data/SEG_val_set.csv\", delimiter=\"\\n\", dtype=np.float32)]\n",
    "x_train, y_train = generate_timeseries(train_set, 0, None, static_params[\"PAST_HISTORY\"], static_params[\"FUTURE_TARGET\"])\n",
    "train_data = tf.data.Dataset.from_tensor_slices((x_train, y_train))\n",
    "train_data = train_data.cache().batch(static_params[\"BATCH_SIZE\"]).shuffle(static_params[\"BUFFER_SIZE\"])"
   ]
  },
  {
   "cell_type": "code",
   "execution_count": 45,
   "metadata": {},
   "outputs": [],
   "source": [
    "test_set = np.genfromtxt(\"data/SEG_test_set_original.csv\", delimiter=\"\\n\", dtype=np.float32)\n",
    "processed_test_set = pipeline.transform(test_set)\n",
    "x_test, y_test = generate_timeseries(processed_test_set, 0, None, static_params[\"PAST_HISTORY\"], static_params[\"FUTURE_TARGET\"])\n",
    "x_test = x_test.astype(np.float32)\n",
    "y_test = y_test.astype(np.float32)"
   ]
  },
  {
   "cell_type": "code",
   "execution_count": 57,
   "metadata": {},
   "outputs": [],
   "source": [
    "model = keras.Sequential()\n",
    "model.add(Conv1D(filters=HP_CONV1D_FILTERS.domain.values[0], kernel_size=HP_CONV1D_KERNEL_SIZE.domain.values[0], padding='causal', activation='relu'))\n",
    "model.add(MaxPooling1D(pool_size=2))\n",
    "model.add(Dropout(HP_CONV1D_DROPOUT.domain.values[0]))\n",
    "model.add(Bidirectional(LSTM(HP_LSTM_1_UNITS.domain.values[0], return_sequences=True)))\n",
    "model.add(Dropout(HP_LSTM_1_DROPOUT.domain.values[0]))\n",
    "model.add(Bidirectional(LSTM(HP_LSTM_2_UNITS.domain.values[0], return_sequences=True)))\n",
    "model.add(Dropout(HP_LSTM_2_DROPOUT.domain.values[0]))\n",
    "model.add(TimeDistributed(Dense(static_params[\"VOCAB_SIZE\"], activation=\"softmax\")))\n",
    "\n",
    "model.compile(\n",
    "    optimizer=keras.optimizers.Nadam(HP_LEARNING_RATE.domain.values[0]),\n",
    "    loss=\"sparse_categorical_crossentropy\",\n",
    "    metrics=['accuracy']\n",
    ")"
   ]
  },
  {
   "cell_type": "code",
   "execution_count": 59,
   "metadata": {
    "tags": [
     "outputPrepend"
    ]
   },
   "outputs": [
    {
     "output_type": "stream",
     "name": "stdout",
     "text": " 1.4204 - accuracy: 0.64157/197 [======================>.......] - ETA: 6s - loss: 1.4177 - accuracy: 0.64158/197 [=======================>......] - ETA: 6s - loss: 1.4135 - accuracy: 0.64159/197 [=======================>......] - ETA: 5s - loss: 1.4201 - accuracy: 0.64160/197 [=======================>......] - ETA: 5s - loss: 1.4218 - accuracy: 0.64161/197 [=======================>......] - ETA: 5s - loss: 1.4275 - accuracy: 0.64162/197 [=======================>......] - ETA: 5s - loss: 1.4187 - accuracy: 0.64163/197 [=======================>......] - ETA: 5s - loss: 1.4201 - accuracy: 0.64164/197 [=======================>......] - ETA: 5s - loss: 1.4253 - accuracy: 0.64165/197 [========================>.....] - ETA: 4s - loss: 1.4302 - accuracy: 0.64166/197 [========================>.....] - ETA: 4s - loss: 1.4287 - accuracy: 0.64167/197 [========================>.....] - ETA: 4s - loss: 1.4322 - accuracy: 0.64168/197 [========================>.....] - ETA: 4s - loss: 1.4333 - accuracy: 0.64169/197 [========================>.....] - ETA: 4s - loss: 1.4322 - accuracy: 0.64170/197 [========================>.....] - ETA: 4s - loss: 1.4331 - accuracy: 0.64171/197 [=========================>....] - ETA: 4s - loss: 1.4388 - accuracy: 0.64172/197 [=========================>....] - ETA: 3s - loss: 1.4399 - accuracy: 0.64173/197 [=========================>....] - ETA: 3s - loss: 1.4469 - accuracy: 0.64174/197 [=========================>....] - ETA: 3s - loss: 1.4499 - accuracy: 0.64175/197 [=========================>....] - ETA: 3s - loss: 1.4529 - accuracy: 0.63176/197 [=========================>....] - ETA: 3s - loss: 1.4536 - accuracy: 0.63177/197 [=========================>....] - ETA: 3s - loss: 1.4527 - accuracy: 0.63178/197 [==========================>...] - ETA: 2s - loss: 1.4568 - accuracy: 0.63179/197 [==========================>...] - ETA: 2s - loss: 1.4488 - accuracy: 0.64180/197 [==========================>...] - ETA: 2s - loss: 1.4487 - accuracy: 0.64181/197 [==========================>...] - ETA: 2s - loss: 1.4543 - accuracy: 0.63182/197 [==========================>...] - ETA: 2s - loss: 1.4550 - accuracy: 0.63183/197 [==========================>...] - ETA: 2s - loss: 1.4519 - accuracy: 0.63184/197 [===========================>..] - ETA: 2s - loss: 1.4570 - accuracy: 0.63185/197 [===========================>..] - ETA: 1s - loss: 1.4575 - accuracy: 0.63186/197 [===========================>..] - ETA: 1s - loss: 1.4633 - accuracy: 0.63187/197 [===========================>..] - ETA: 1s - loss: 1.4646 - accuracy: 0.63188/197 [===========================>..] - ETA: 1s - loss: 1.4641 - accuracy: 0.63189/197 [===========================>..] - ETA: 1s - loss: 1.4702 - accuracy: 0.63190/197 [===========================>..] - ETA: 1s - loss: 1.4696 - accuracy: 0.63191/197 [============================>.] - ETA: 0s - loss: 1.4653 - accuracy: 0.63192/197 [============================>.] - ETA: 0s - loss: 1.4684 - accuracy: 0.63193/197 [============================>.] - ETA: 0s - loss: 1.4729 - accuracy: 0.63194/197 [============================>.] - ETA: 0s - loss: 1.4776 - accuracy: 0.63195/197 [============================>.] - ETA: 0s - loss: 1.4829 - accuracy: 0.63196/197 [============================>.] - ETA: 0s - loss: 1.4818 - accuracy: 0.63197/197 [==============================] - ETA: 0s - loss: 1.4807 - accuracy: 0.63197/197 [==============================] - 30s 155ms/step - loss: 1.4807 - accuracy: 0.6344\nEpoch 152/500\n  1/197 [..............................] - ETA: 0s - loss: 1.5725 - accuracy: 0.60  2/197 [..............................] - ETA: 15s - loss: 1.5016 - accuracy: 0.616  3/197 [..............................] - ETA: 19s - loss: 1.5006 - accuracy: 0.606  4/197 [..............................] - ETA: 22s - loss: 1.3213 - accuracy: 0.671  5/197 [..............................] - ETA: 23s - loss: 1.2399 - accuracy: 0.689  6/197 [..............................] - ETA: 24s - loss: 1.3888 - accuracy: 0.653  7/197 [>.............................] - ETA: 25s - loss: 1.3662 - accuracy: 0.654  8/197 [>.............................] - ETA: 25s - loss: 1.4218 - accuracy: 0.650  9/197 [>.............................] - ETA: 26s - loss: 1.4627 - accuracy: 0.640 10/197 [>.............................] - ETA: 26s - loss: 1.5132 - accuracy: 0.625 11/197 [>.............................] - ETA: 26s - loss: 1.4754 - accuracy: 0.632 12/197 [>.............................] - ETA: 26s - loss: 1.4709 - accuracy: 0.632 13/197 [>.............................] - ETA: 26s - loss: 1.4694 - accuracy: 0.631 14/197 [=>............................] - ETA: 26s - loss: 1.4896 - accuracy: 0.626 15/197 [=>............................] - ETA: 26s - loss: 1.4532 - accuracy: 0.633 16/197 [=>............................] - ETA: 26s - loss: 1.4567 - accuracy: 0.631 17/197 [=>............................] - ETA: 26s - loss: 1.5062 - accuracy: 0.623 18/197 [=>............................] - ETA: 26s - loss: 1.5345 - accuracy: 0.617 19/197 [=>............................] - ETA: 26s - loss: 1.5282 - accuracy: 0.622 20/197 [==>...........................] - ETA: 26s - loss: 1.4589 - accuracy: 0.639 21/197 [==>...........................] - ETA: 26s - loss: 1.4213 - accuracy: 0.647 22/197 [==>...........................] - ETA: 26s - loss: 1.4412 - accuracy: 0.645 23/197 [==>...........................] - ETA: 25s - loss: 1.4527 - accuracy: 0.643 24/197 [==>...........................] - ETA: 25s - loss: 1.4560 - accuracy: 0.641 25/197 [==>...........................] - ETA: 25s - loss: 1.4876 - accuracy: 0.631 26/197 [==>...........................] - ETA: 25s - loss: 1.4756 - accuracy: 0.633 27/197 [===>..........................] - ETA: 25s - loss: 1.4817 - accuracy: 0.630 28/197 [===>..........................] - ETA: 25s - loss: 1.4726 - accuracy: 0.632 29/197 [===>..........................] - ETA: 25s - loss: 1.4490 - accuracy: 0.632 30/197 [===>..........................] - ETA: 25s - loss: 1.4758 - accuracy: 0.625 31/197 [===>..........................] - ETA: 25s - loss: 1.4732 - accuracy: 0.629 32/197 [===>..........................] - ETA: 24s - loss: 1.4955 - accuracy: 0.623 33/197 [====>.........................] - ETA: 24s - loss: 1.5081 - accuracy: 0.621 34/197 [====>.........................] - ETA: 24s - loss: 1.5253 - accuracy: 0.617 35/197 [====>.........................] - ETA: 24s - loss: 1.5153 - accuracy: 0.619 36/197 [====>.........................] - ETA: 24s - loss: 1.5311 - accuracy: 0.617 37/197 [====>.........................] - ETA: 24s - loss: 1.5369 - accuracy: 0.615 38/197 [====>.........................] - ETA: 24s - loss: 1.5335 - accuracy: 0.615 39/197 [====>.........................] - ETA: 24s - loss: 1.5256 - accuracy: 0.617 40/197 [=====>........................] - ETA: 23s - loss: 1.5465 - accuracy: 0.613 41/197 [=====>........................] - ETA: 23s - loss: 1.5565 - accuracy: 0.612 42/197 [=====>........................] - ETA: 23s - loss: 1.5667 - accuracy: 0.610 43/197 [=====>........................] - ETA: 23s - loss: 1.5859 - accuracy: 0.604 44/197 [=====>........................] - ETA: 23s - loss: 1.5719 - accuracy: 0.607 45/197 [=====>........................] - ETA: 23s - loss: 1.5372 - accuracy: 0.616 46/197 [======>.......................] - ETA: 23s - loss: 1.5311 - accuracy: 0.618 47/197 [======>.......................] - ETA: 22s - loss: 1.5392 - accuracy: 0.616 48/197 [======>.......................] - ETA: 22s - loss: 1.5416 - accuracy: 0.614 49/197 [======>.......................] - ETA: 22s - loss: 1.5487 - accuracy: 0.612 50/197 [======>.......................] - ETA: 22s - loss: 1.5442 - accuracy: 0.613 51/197 [======>.......................] - ETA: 22s - loss: 1.5392 - accuracy: 0.614 52/197 [======>.......................] - ETA: 22s - loss: 1.5402 - accuracy: 0.615 53/197 [=======>......................] - ETA: 22s - loss: 1.5484 - accuracy: 0.612 54/197 [=======>......................] - ETA: 21s - loss: 1.5487 - accuracy: 0.613 55/197 [=======>......................] - ETA: 21s - loss: 1.5569 - accuracy: 0.610 56/197 [=======>......................] - ETA: 21s - loss: 1.5576 - accuracy: 0.611 57/197 [=======>......................] - ETA: 21s - loss: 1.5747 - accuracy: 0.608 58/197 [=======>......................] - ETA: 21s - loss: 1.5710 - accuracy: 0.608 59/197 [=======>......................] - ETA: 21s - loss: 1.5686 - accuracy: 0.609 60/197 [========>.....................] - ETA: 20s - loss: 1.5730 - accuracy: 0.608 61/197 [========>.....................] - ETA: 20s - loss: 1.5640 - accuracy: 0.610 62/197 [========>.....................] - ETA: 20s - loss: 1.5597 - accuracy: 0.610 63/197 [========>.....................] - ETA: 20s - loss: 1.5472 - accuracy: 0.612 64/197 [========>.....................] - ETA: 20s - loss: 1.5385 - accuracy: 0.614 65/197 [========>.....................] - ETA: 20s - loss: 1.5325 - accuracy: 0.615 66/197 [=========>....................] - ETA: 20s - loss: 1.5467 - accuracy: 0.612 67/197 [=========>....................] - ETA: 19s - loss: 1.5468 - accuracy: 0.612 68/197 [=========>....................] - ETA: 19s - loss: 1.5419 - accuracy: 0.613 69/197 [=========>....................] - ETA: 19s - loss: 1.5305 - accuracy: 0.615 70/197 [=========>....................] - ETA: 19s - loss: 1.5155 - accuracy: 0.619 71/197 [=========>....................] - ETA: 19s - loss: 1.5227 - accuracy: 0.618 72/197 [=========>....................] - ETA: 19s - loss: 1.5287 - accuracy: 0.617 73/197 [==========>...................] - ETA: 19s - loss: 1.5079 - accuracy: 0.622 74/197 [==========>...................] - ETA: 18s - loss: 1.5011 - accuracy: 0.625 75/197 [==========>...................] - ETA: 18s - loss: 1.5001 - accuracy: 0.625 76/197 [==========>...................] - ETA: 18s - loss: 1.5040 - accuracy: 0.625 77/197 [==========>...................] - ETA: 18s - loss: 1.4975 - accuracy: 0.627 78/197 [==========>...................] - ETA: 18s - loss: 1.5077 - accuracy: 0.625 79/197 [===========>..................] - ETA: 18s - loss: 1.5103 - accuracy: 0.624 80/197 [===========>..................] - ETA: 17s - loss: 1.5067 - accuracy: 0.625 81/197 [===========>..................] - ETA: 17s - loss: 1.5129 - accuracy: 0.623 82/197 [===========>..................] - ETA: 17s - loss: 1.5051 - accuracy: 0.625 83/197 [===========>..................] - ETA: 17s - loss: 1.4946 - accuracy: 0.628 84/197 [===========>..................] - ETA: 17s - loss: 1.4953 - accuracy: 0.627 85/197 [===========>..................] - ETA: 17s - loss: 1.4946 - accuracy: 0.627 86/197 [============>.................] - ETA: 17s - loss: 1.4900 - accuracy: 0.629 87/197 [============>.................] - ETA: 16s - loss: 1.4884 - accuracy: 0.631 88/197 [============>.................] - ETA: 16s - loss: 1.4734 - accuracy: 0.635 89/197 [============>.................] - ETA: 16s - loss: 1.4720 - accuracy: 0.635 90/197 [============>.................] - ETA: 16s - loss: 1.4818 - accuracy: 0.633 91/197 [============>.................] - ETA: 16s - loss: 1.4893 - accuracy: 0.631 92/197 [=============>................] - ETA: 16s - loss: 1.4923 - accuracy: 0.630 93/197 [=============>................] - ETA: 16s - loss: 1.4977 - accuracy: 0.629 94/197 [=============>................] - ETA: 15s - loss: 1.5002 - accuracy: 0.628 95/197 [=============>................] - ETA: 15s - loss: 1.5093 - accuracy: 0.626 96/197 [=============>................] - ETA: 15s - loss: 1.5090 - accuracy: 0.626 97/197 [=============>................] - ETA: 15s - loss: 1.5016 - accuracy: 0.625 98/197 [=============>................] - ETA: 15s - loss: 1.5088 - accuracy: 0.624 99/197 [==============>...............] - ETA: 15s - loss: 1.5101 - accuracy: 0.625100/197 [==============>...............] - ETA: 14s - loss: 1.5119 - accuracy: 0.624101/197 [==============>...............] - ETA: 14s - loss: 1.5117 - accuracy: 0.624102/197 [==============>...............] - ETA: 14s - loss: 1.5054 - accuracy: 0.625103/197 [==============>...............] - ETA: 14s - loss: 1.5056 - accuracy: 0.626104/197 [==============>...............] - ETA: 14s - loss: 1.5036 - accuracy: 0.626105/197 [==============>...............] - ETA: 14s - loss: 1.5042 - accuracy: 0.626106/197 [===============>..............] - ETA: 14s - loss: 1.5080 - accuracy: 0.625107/197 [===============>..............] - ETA: 13s - loss: 1.5026 - accuracy: 0.626108/197 [===============>..............] - ETA: 13s - loss: 1.5004 - accuracy: 0.627109/197 [===============>..............] - ETA: 13s - loss: 1.4900 - accuracy: 0.629110/197 [===============>..............] - ETA: 13s - loss: 1.4900 - accuracy: 0.629111/197 [===============>..............] - ETA: 13s - loss: 1.4949 - accuracy: 0.628112/197 [================>.............] - ETA: 13s - loss: 1.4943 - accuracy: 0.628113/197 [================>.............] - ETA: 12s - loss: 1.4941 - accuracy: 0.628114/197 [================>.............] - ETA: 12s - loss: 1.4875 - accuracy: 0.628115/197 [================>.............] - ETA: 12s - loss: 1.4748 - accuracy: 0.631116/197 [================>.............] - ETA: 12s - loss: 1.4813 - accuracy: 0.630117/197 [================>.............] - ETA: 12s - loss: 1.4798 - accuracy: 0.630118/197 [================>.............] - ETA: 12s - loss: 1.4706 - accuracy: 0.633119/197 [=================>............] - ETA: 12s - loss: 1.4766 - accuracy: 0.632120/197 [=================>............] - ETA: 11s - loss: 1.4762 - accuracy: 0.632121/197 [=================>............] - ETA: 11s - loss: 1.4799 - accuracy: 0.631122/197 [=================>............] - ETA: 11s - loss: 1.4781 - accuracy: 0.631123/197 [=================>............] - ETA: 11s - loss: 1.4786 - accuracy: 0.632124/197 [=================>............] - ETA: 11s - loss: 1.4761 - accuracy: 0.632125/197 [==================>...........] - ETA: 11s - loss: 1.4739 - accuracy: 0.632126/197 [==================>...........] - ETA: 10s - loss: 1.4790 - accuracy: 0.631127/197 [==================>...........] - ETA: 10s - loss: 1.4841 - accuracy: 0.630128/197 [==================>...........] - ETA: 10s - loss: 1.4851 - accuracy: 0.631129/197 [==================>...........] - ETA: 10s - loss: 1.4880 - accuracy: 0.630130/197 [==================>...........] - ETA: 10s - loss: 1.4913 - accuracy: 0.630131/197 [==================>...........] - ETA: 10s - loss: 1.4958 - accuracy: 0.629132/197 [===================>..........] - ETA: 10s - loss: 1.4914 - accuracy: 0.629133/197 [===================>..........] - ETA: 9s - loss: 1.4922 - accuracy: 0.62134/197 [===================>..........] - ETA: 9s - loss: 1.4975 - accuracy: 0.62135/197 [===================>..........] - ETA: 9s - loss: 1.4985 - accuracy: 0.62136/197 [===================>..........] - ETA: 9s - loss: 1.4996 - accuracy: 0.62137/197 [===================>..........] - ETA: 9s - loss: 1.4971 - accuracy: 0.62138/197 [====================>.........] - ETA: 9s - loss: 1.4925 - accuracy: 0.62139/197 [====================>.........] - ETA: 8s - loss: 1.4966 - accuracy: 0.62140/197 [====================>.........] - ETA: 8s - loss: 1.4944 - accuracy: 0.62141/197 [====================>.........] - ETA: 8s - loss: 1.4916 - accuracy: 0.62142/197 [====================>.........] - ETA: 8s - loss: 1.4895 - accuracy: 0.62143/197 [====================>.........] - ETA: 8s - loss: 1.4945 - accuracy: 0.62144/197 [====================>.........] - ETA: 8s - loss: 1.5005 - accuracy: 0.62145/197 [=====================>........] - ETA: 8s - loss: 1.4990 - accuracy: 0.62146/197 [=====================>........] - ETA: 7s - loss: 1.4930 - accuracy: 0.62147/197 [=====================>........] - ETA: 7s - loss: 1.4886 - accuracy: 0.62148/197 [=====================>........] - ETA: 7s - loss: 1.4787 - accuracy: 0.63149/197 [=====================>........] - ETA: 7s - loss: 1.4691 - accuracy: 0.63150/197 [=====================>........] - ETA: 7s - loss: 1.4718 - accuracy: 0.63151/197 [=====================>........] - ETA: 7s - loss: 1.4769 - accuracy: 0.63152/197 [======================>.......] - ETA: 6s - loss: 1.4734 - accuracy: 0.63153/197 [======================>.......] - ETA: 6s - loss: 1.4740 - accuracy: 0.63154/197 [======================>.......] - ETA: 6s - loss: 1.4746 - accuracy: 0.63155/197 [======================>.......] - ETA: 6s - loss: 1.4803 - accuracy: 0.63156/197 [======================>.......] - ETA: 6s - loss: 1.4709 - accuracy: 0.63157/197 [======================>.......] - ETA: 6s - loss: 1.4730 - accuracy: 0.63158/197 [=======================>......] - ETA: 6s - loss: 1.4638 - accuracy: 0.63159/197 [=======================>......] - ETA: 5s - loss: 1.4654 - accuracy: 0.63160/197 [=======================>......] - ETA: 5s - loss: 1.4695 - accuracy: 0.63161/197 [=======================>......] - ETA: 5s - loss: 1.4605 - accuracy: 0.63162/197 [=======================>......] - ETA: 5s - loss: 1.4624 - accuracy: 0.63163/197 [=======================>......] - ETA: 5s - loss: 1.4687 - accuracy: 0.63164/197 [=======================>......] - ETA: 5s - loss: 1.4676 - accuracy: 0.63165/197 [========================>.....] - ETA: 4s - loss: 1.4747 - accuracy: 0.63166/197 [========================>.....] - ETA: 4s - loss: 1.4775 - accuracy: 0.63167/197 [========================>.....] - ETA: 4s - loss: 1.4687 - accuracy: 0.63168/197 [========================>.....] - ETA: 4s - loss: 1.4696 - accuracy: 0.63169/197 [========================>.....] - ETA: 4s - loss: 1.4724 - accuracy: 0.63170/197 [========================>.....] - ETA: 4s - loss: 1.4782 - accuracy: 0.63171/197 [=========================>....] - ETA: 4s - loss: 1.4780 - accuracy: 0.63172/197 [=========================>....] - ETA: 3s - loss: 1.4743 - accuracy: 0.63173/197 [=========================>....] - ETA: 3s - loss: 1.4721 - accuracy: 0.63174/197 [=========================>....] - ETA: 3s - loss: 1.4740 - accuracy: 0.63175/197 [=========================>....] - ETA: 3s - loss: 1.4732 - accuracy: 0.63176/197 [=========================>....] - ETA: 3s - loss: 1.4731 - accuracy: 0.63177/197 [=========================>....] - ETA: 3s - loss: 1.4698 - accuracy: 0.63178/197 [==========================>...] - ETA: 2s - loss: 1.4710 - accuracy: 0.63179/197 [==========================>...] - ETA: 2s - loss: 1.4682 - accuracy: 0.63180/197 [==========================>...] - ETA: 2s - loss: 1.4702 - accuracy: 0.63181/197 [==========================>...] - ETA: 2s - loss: 1.4672 - accuracy: 0.63182/197 [==========================>...] - ETA: 2s - loss: 1.4705 - accuracy: 0.63183/197 [==========================>...] - ETA: 2s - loss: 1.4705 - accuracy: 0.63184/197 [===========================>..] - ETA: 2s - loss: 1.4759 - accuracy: 0.63185/197 [===========================>..] - ETA: 1s - loss: 1.4766 - accuracy: 0.63186/197 [===========================>..] - ETA: 1s - loss: 1.4740 - accuracy: 0.63187/197 [===========================>..] - ETA: 1s - loss: 1.4764 - accuracy: 0.63188/197 [===========================>..] - ETA: 1s - loss: 1.4759 - accuracy: 0.63189/197 [===========================>..] - ETA: 1s - loss: 1.4809 - accuracy: 0.63190/197 [===========================>..] - ETA: 1s - loss: 1.4817 - accuracy: 0.63191/197 [============================>.] - ETA: 0s - loss: 1.4793 - accuracy: 0.63192/197 [============================>.] - ETA: 0s - loss: 1.4768 - accuracy: 0.63193/197 [============================>.] - ETA: 0s - loss: 1.4810 - accuracy: 0.63194/197 [============================>.] - ETA: 0s - loss: 1.4861 - accuracy: 0.63195/197 [============================>.] - ETA: 0s - loss: 1.4814 - accuracy: 0.63196/197 [============================>.] - ETA: 0s - loss: 1.4817 - accuracy: 0.63197/197 [==============================] - ETA: 0s - loss: 1.4742 - accuracy: 0.63197/197 [==============================] - 30s 155ms/step - loss: 1.4742 - accuracy: 0.6344\n"
    },
    {
     "output_type": "error",
     "ename": "TypeError",
     "evalue": "cannot unpack non-iterable History object",
     "traceback": [
      "\u001b[1;31m---------------------------------------------------------------------------\u001b[0m",
      "\u001b[1;31mTypeError\u001b[0m                                 Traceback (most recent call last)",
      "\u001b[1;32m<ipython-input-59-6cb04e7ccd14>\u001b[0m in \u001b[0;36m<module>\u001b[1;34m\u001b[0m\n\u001b[0;32m      1\u001b[0m \u001b[1;32mwith\u001b[0m \u001b[0mtf\u001b[0m\u001b[1;33m.\u001b[0m\u001b[0msummary\u001b[0m\u001b[1;33m.\u001b[0m\u001b[0mcreate_file_writer\u001b[0m\u001b[1;33m(\u001b[0m\u001b[1;34m'logs/hparam_tuning/'\u001b[0m \u001b[1;33m+\u001b[0m \u001b[0mtimestamp\u001b[0m\u001b[1;33m)\u001b[0m\u001b[1;33m.\u001b[0m\u001b[0mas_default\u001b[0m\u001b[1;33m(\u001b[0m\u001b[1;33m)\u001b[0m\u001b[1;33m:\u001b[0m\u001b[1;33m\u001b[0m\u001b[1;33m\u001b[0m\u001b[0m\n\u001b[0;32m      2\u001b[0m     \u001b[0mhp\u001b[0m\u001b[1;33m.\u001b[0m\u001b[0mhparams\u001b[0m\u001b[1;33m(\u001b[0m\u001b[0mhparams\u001b[0m\u001b[1;33m)\u001b[0m\u001b[1;33m\u001b[0m\u001b[1;33m\u001b[0m\u001b[0m\n\u001b[1;32m----> 3\u001b[1;33m     \u001b[0mhistory\u001b[0m\u001b[1;33m,\u001b[0m \u001b[0maccuracy\u001b[0m \u001b[1;33m=\u001b[0m \u001b[0mmodel\u001b[0m\u001b[1;33m.\u001b[0m\u001b[0mfit\u001b[0m\u001b[1;33m(\u001b[0m\u001b[0mtrain_data\u001b[0m\u001b[1;33m,\u001b[0m \u001b[0mepochs\u001b[0m\u001b[1;33m=\u001b[0m\u001b[0mstatic_params\u001b[0m\u001b[1;33m[\u001b[0m\u001b[1;34m\"EPOCHS\"\u001b[0m\u001b[1;33m]\u001b[0m\u001b[1;33m,\u001b[0m \u001b[0mcallbacks\u001b[0m\u001b[1;33m=\u001b[0m\u001b[1;33m[\u001b[0m\u001b[0mkeras\u001b[0m\u001b[1;33m.\u001b[0m\u001b[0mcallbacks\u001b[0m\u001b[1;33m.\u001b[0m\u001b[0mEarlyStopping\u001b[0m\u001b[1;33m(\u001b[0m\u001b[1;34m'accuracy'\u001b[0m\u001b[1;33m,\u001b[0m \u001b[0mpatience\u001b[0m\u001b[1;33m=\u001b[0m\u001b[1;36m3\u001b[0m\u001b[1;33m)\u001b[0m\u001b[1;33m]\u001b[0m\u001b[1;33m)\u001b[0m\u001b[1;33m\u001b[0m\u001b[1;33m\u001b[0m\u001b[0m\n\u001b[0m\u001b[0;32m      4\u001b[0m     \u001b[1;31m#tf.summary.scalar('accuracy', accuracy, step=1)\u001b[0m\u001b[1;33m\u001b[0m\u001b[1;33m\u001b[0m\u001b[1;33m\u001b[0m\u001b[0m\n",
      "\u001b[1;31mTypeError\u001b[0m: cannot unpack non-iterable History object"
     ]
    }
   ],
   "source": [
    "with tf.summary.create_file_writer('logs/hparam_tuning/' + timestamp).as_default():\n",
    "    hp.hparams(hparams)\n",
    "    history, accuracy = model.fit(train_data, epochs=static_params[\"EPOCHS\"], callbacks=[keras.callbacks.EarlyStopping('accuracy', patience=3)])\n",
    "    #tf.summary.scalar('accuracy', accuracy, step=1)"
   ]
  },
  {
   "cell_type": "code",
   "execution_count": 60,
   "metadata": {
    "tags": []
   },
   "outputs": [
    {
     "output_type": "stream",
     "name": "stdout",
     "text": "1/1112 [..............................] - ETA: 0s - loss: 4.6139 - accuracy: 0.33   9/1112 [..............................] - ETA: 6s - loss: 4.8010 - accuracy: 0.36  16/1112 [..............................] - ETA: 7s - loss: 3.8194 - accuracy: 0.49  23/1112 [..............................] - ETA: 7s - loss: 3.1777 - accuracy: 0.59  31/1112 [..............................] - ETA: 7s - loss: 2.8118 - accuracy: 0.64  39/1112 [>.............................] - ETA: 7s - loss: 2.6077 - accuracy: 0.66  46/1112 [>.............................] - ETA: 7s - loss: 2.6251 - accuracy: 0.65  54/1112 [>.............................] - ETA: 7s - loss: 2.6182 - accuracy: 0.64  62/1112 [>.............................] - ETA: 7s - loss: 2.6445 - accuracy: 0.59  70/1112 [>.............................] - ETA: 7s - loss: 2.6653 - accuracy: 0.59  77/1112 [=>............................] - ETA: 7s - loss: 2.7390 - accuracy: 0.57  85/1112 [=>............................] - ETA: 7s - loss: 2.7458 - accuracy: 0.56  93/1112 [=>............................] - ETA: 7s - loss: 2.8664 - accuracy: 0.55 101/1112 [=>............................] - ETA: 6s - loss: 2.8270 - accuracy: 0.56 108/1112 [=>............................] - ETA: 6s - loss: 2.7989 - accuracy: 0.57 116/1112 [==>...........................] - ETA: 6s - loss: 2.7565 - accuracy: 0.58 124/1112 [==>...........................] - ETA: 6s - loss: 2.8777 - accuracy: 0.57 132/1112 [==>...........................] - ETA: 6s - loss: 2.9115 - accuracy: 0.57 140/1112 [==>...........................] - ETA: 6s - loss: 2.9771 - accuracy: 0.56 147/1112 [==>...........................] - ETA: 6s - loss: 3.1165 - accuracy: 0.54 155/1112 [===>..........................] - ETA: 6s - loss: 3.3153 - accuracy: 0.53 162/1112 [===>..........................] - ETA: 6s - loss: 3.4533 - accuracy: 0.52 169/1112 [===>..........................] - ETA: 6s - loss: 3.5721 - accuracy: 0.52 176/1112 [===>..........................] - ETA: 6s - loss: 3.6871 - accuracy: 0.50 183/1112 [===>..........................] - ETA: 6s - loss: 3.8703 - accuracy: 0.50 191/1112 [====>.........................] - ETA: 6s - loss: 3.9918 - accuracy: 0.49 198/1112 [====>.........................] - ETA: 6s - loss: 3.9086 - accuracy: 0.50 205/1112 [====>.........................] - ETA: 6s - loss: 3.8466 - accuracy: 0.51 212/1112 [====>.........................] - ETA: 6s - loss: 3.8363 - accuracy: 0.52 219/1112 [====>.........................] - ETA: 6s - loss: 3.7966 - accuracy: 0.53 227/1112 [=====>........................] - ETA: 6s - loss: 3.7741 - accuracy: 0.53 235/1112 [=====>........................] - ETA: 6s - loss: 3.7386 - accuracy: 0.54 243/1112 [=====>........................] - ETA: 6s - loss: 3.7145 - accuracy: 0.55 251/1112 [=====>........................] - ETA: 6s - loss: 3.6805 - accuracy: 0.55 259/1112 [=====>........................] - ETA: 5s - loss: 3.6451 - accuracy: 0.56 267/1112 [======>.......................] - ETA: 5s - loss: 3.6401 - accuracy: 0.56 274/1112 [======>.......................] - ETA: 5s - loss: 3.5847 - accuracy: 0.57 281/1112 [======>.......................] - ETA: 5s - loss: 3.5939 - accuracy: 0.57 288/1112 [======>.......................] - ETA: 5s - loss: 3.5729 - accuracy: 0.58 295/1112 [======>.......................] - ETA: 5s - loss: 3.5943 - accuracy: 0.57 302/1112 [=======>......................] - ETA: 5s - loss: 3.6019 - accuracy: 0.57 309/1112 [=======>......................] - ETA: 5s - loss: 3.5844 - accuracy: 0.57 316/1112 [=======>......................] - ETA: 5s - loss: 3.6107 - accuracy: 0.57 323/1112 [=======>......................] - ETA: 5s - loss: 3.6502 - accuracy: 0.56 331/1112 [=======>......................] - ETA: 5s - loss: 3.7357 - accuracy: 0.56 339/1112 [========>.....................] - ETA: 5s - loss: 3.7894 - accuracy: 0.55 347/1112 [========>.....................] - ETA: 5s - loss: 3.8065 - accuracy: 0.55 355/1112 [========>.....................] - ETA: 5s - loss: 3.7723 - accuracy: 0.56 363/1112 [========>.....................] - ETA: 5s - loss: 3.7355 - accuracy: 0.56 371/1112 [=========>....................] - ETA: 5s - loss: 3.6967 - accuracy: 0.57 378/1112 [=========>....................] - ETA: 5s - loss: 3.6591 - accuracy: 0.57 386/1112 [=========>....................] - ETA: 5s - loss: 3.6414 - accuracy: 0.58 394/1112 [=========>....................] - ETA: 5s - loss: 3.6071 - accuracy: 0.58 402/1112 [=========>....................] - ETA: 4s - loss: 3.5680 - accuracy: 0.58 410/1112 [==========>...................] - ETA: 4s - loss: 3.5420 - accuracy: 0.59 418/1112 [==========>...................] - ETA: 4s - loss: 3.4988 - accuracy: 0.59 426/1112 [==========>...................] - ETA: 4s - loss: 3.4711 - accuracy: 0.59 434/1112 [==========>...................] - ETA: 4s - loss: 3.4252 - accuracy: 0.60 442/1112 [==========>...................] - ETA: 4s - loss: 3.3998 - accuracy: 0.60 450/1112 [===========>..................] - ETA: 4s - loss: 3.3631 - accuracy: 0.61 458/1112 [===========>..................] - ETA: 4s - loss: 3.3309 - accuracy: 0.61 466/1112 [===========>..................] - ETA: 4s - loss: 3.2927 - accuracy: 0.61 474/1112 [===========>..................] - ETA: 4s - loss: 3.2842 - accuracy: 0.61 482/1112 [============>.................] - ETA: 4s - loss: 3.2617 - accuracy: 0.62 490/1112 [============>.................] - ETA: 4s - loss: 3.2376 - accuracy: 0.62 498/1112 [============>.................] - ETA: 4s - loss: 3.2041 - accuracy: 0.62 505/1112 [============>.................] - ETA: 4s - loss: 3.1830 - accuracy: 0.63 512/1112 [============>.................] - ETA: 4s - loss: 3.1632 - accuracy: 0.63 519/1112 [=============>................] - ETA: 4s - loss: 3.1460 - accuracy: 0.63 526/1112 [=============>................] - ETA: 4s - loss: 3.1184 - accuracy: 0.63 533/1112 [=============>................] - ETA: 4s - loss: 3.1032 - accuracy: 0.64 540/1112 [=============>................] - ETA: 4s - loss: 3.0906 - accuracy: 0.64 548/1112 [=============>................] - ETA: 3s - loss: 3.0749 - accuracy: 0.64 556/1112 [==============>...............] - ETA: 3s - loss: 3.0581 - accuracy: 0.64 564/1112 [==============>...............] - ETA: 3s - loss: 3.0708 - accuracy: 0.64 572/1112 [==============>...............] - ETA: 3s - loss: 3.0954 - accuracy: 0.64 580/1112 [==============>...............] - ETA: 3s - loss: 3.0975 - accuracy: 0.63 588/1112 [==============>...............] - ETA: 3s - loss: 3.0791 - accuracy: 0.64 596/1112 [===============>..............] - ETA: 3s - loss: 3.0627 - accuracy: 0.64 604/1112 [===============>..............] - ETA: 3s - loss: 3.0463 - accuracy: 0.64 612/1112 [===============>..............] - ETA: 3s - loss: 3.0425 - accuracy: 0.64 620/1112 [===============>..............] - ETA: 3s - loss: 3.0566 - accuracy: 0.64 628/1112 [===============>..............] - ETA: 3s - loss: 3.0526 - accuracy: 0.64 636/1112 [================>.............] - ETA: 3s - loss: 3.0665 - accuracy: 0.63 643/1112 [================>.............] - ETA: 3s - loss: 3.0621 - accuracy: 0.63 650/1112 [================>.............] - ETA: 3s - loss: 3.0792 - accuracy: 0.63 658/1112 [================>.............] - ETA: 3s - loss: 3.0754 - accuracy: 0.63 666/1112 [================>.............] - ETA: 3s - loss: 3.0733 - accuracy: 0.63 673/1112 [=================>............] - ETA: 3s - loss: 3.0647 - accuracy: 0.63 681/1112 [=================>............] - ETA: 3s - loss: 3.0695 - accuracy: 0.63 689/1112 [=================>............] - ETA: 2s - loss: 3.0769 - accuracy: 0.63 697/1112 [=================>............] - ETA: 2s - loss: 3.0849 - accuracy: 0.63 705/1112 [==================>...........] - ETA: 2s - loss: 3.1022 - accuracy: 0.62 713/1112 [==================>...........] - ETA: 2s - loss: 3.1019 - accuracy: 0.62 721/1112 [==================>...........] - ETA: 2s - loss: 3.1344 - accuracy: 0.62 729/1112 [==================>...........] - ETA: 2s - loss: 3.1682 - accuracy: 0.61 737/1112 [==================>...........] - ETA: 2s - loss: 3.2088 - accuracy: 0.61 745/1112 [===================>..........] - ETA: 2s - loss: 3.2551 - accuracy: 0.61 753/1112 [===================>..........] - ETA: 2s - loss: 3.2883 - accuracy: 0.60 761/1112 [===================>..........] - ETA: 2s - loss: 3.3426 - accuracy: 0.60 768/1112 [===================>..........] - ETA: 2s - loss: 3.3630 - accuracy: 0.60 776/1112 [===================>..........] - ETA: 2s - loss: 3.3467 - accuracy: 0.60 785/1112 [====================>.........] - ETA: 2s - loss: 3.3380 - accuracy: 0.60 793/1112 [====================>.........] - ETA: 2s - loss: 3.3342 - accuracy: 0.60 801/1112 [====================>.........] - ETA: 2s - loss: 3.3286 - accuracy: 0.60 809/1112 [====================>.........] - ETA: 2s - loss: 3.3240 - accuracy: 0.61 817/1112 [=====================>........] - ETA: 2s - loss: 3.3230 - accuracy: 0.61 825/1112 [=====================>........] - ETA: 1s - loss: 3.3166 - accuracy: 0.61 833/1112 [=====================>........] - ETA: 1s - loss: 3.3070 - accuracy: 0.61 841/1112 [=====================>........] - ETA: 1s - loss: 3.3023 - accuracy: 0.61 849/1112 [=====================>........] - ETA: 1s - loss: 3.2950 - accuracy: 0.61 857/1112 [======================>.......] - ETA: 1s - loss: 3.2973 - accuracy: 0.61 865/1112 [======================>.......] - ETA: 1s - loss: 3.2917 - accuracy: 0.61 873/1112 [======================>.......] - ETA: 1s - loss: 3.3084 - accuracy: 0.61 881/1112 [======================>.......] - ETA: 1s - loss: 3.3047 - accuracy: 0.61 888/1112 [======================>.......] - ETA: 1s - loss: 3.3040 - accuracy: 0.61 895/1112 [=======================>......] - ETA: 1s - loss: 3.3150 - accuracy: 0.61 903/1112 [=======================>......] - ETA: 1s - loss: 3.3438 - accuracy: 0.61 911/1112 [=======================>......] - ETA: 1s - loss: 3.3728 - accuracy: 0.61 919/1112 [=======================>......] - ETA: 1s - loss: 3.3952 - accuracy: 0.61 927/1112 [========================>.....] - ETA: 1s - loss: 3.3803 - accuracy: 0.61 934/1112 [========================>.....] - ETA: 1s - loss: 3.3743 - accuracy: 0.61 941/1112 [========================>.....] - ETA: 1s - loss: 3.3675 - accuracy: 0.61 948/1112 [========================>.....] - ETA: 1s - loss: 3.3501 - accuracy: 0.61 956/1112 [========================>.....] - ETA: 1s - loss: 3.3380 - accuracy: 0.61 963/1112 [========================>.....] - ETA: 1s - loss: 3.3276 - accuracy: 0.61 970/1112 [=========================>....] - ETA: 0s - loss: 3.3148 - accuracy: 0.62 977/1112 [=========================>....] - ETA: 0s - loss: 3.3001 - accuracy: 0.62 984/1112 [=========================>....] - ETA: 0s - loss: 3.2882 - accuracy: 0.62 992/1112 [=========================>....] - ETA: 0s - loss: 3.2767 - accuracy: 0.621000/1112 [=========================>....] - ETA: 0s - loss: 3.2860 - accuracy: 0.621008/1112 [==========================>...] - ETA: 0s - loss: 3.2891 - accuracy: 0.621016/1112 [==========================>...] - ETA: 0s - loss: 3.3094 - accuracy: 0.611024/1112 [==========================>...] - ETA: 0s - loss: 3.3183 - accuracy: 0.611032/1112 [==========================>...] - ETA: 0s - loss: 3.3079 - accuracy: 0.611040/1112 [===========================>..] - ETA: 0s - loss: 3.2952 - accuracy: 0.611048/1112 [===========================>..] - ETA: 0s - loss: 3.2853 - accuracy: 0.611056/1112 [===========================>..] - ETA: 0s - loss: 3.2805 - accuracy: 0.621065/1112 [===========================>..] - ETA: 0s - loss: 3.2804 - accuracy: 0.621073/1112 [===========================>..] - ETA: 0s - loss: 3.2730 - accuracy: 0.621081/1112 [============================>.] - ETA: 0s - loss: 3.2586 - accuracy: 0.621089/1112 [============================>.] - ETA: 0s - loss: 3.2780 - accuracy: 0.621097/1112 [============================>.] - ETA: 0s - loss: 3.2749 - accuracy: 0.611105/1112 [============================>.] - ETA: 0s - loss: 3.2911 - accuracy: 0.611112/1112 [==============================] - ETA: 0s - loss: 3.3027 - accuracy: 0.611112/1112 [==============================] - 8s 7ms/step - loss: 3.3027 - accuracy: 0.6154\n"
    },
    {
     "output_type": "execute_result",
     "data": {
      "text/plain": "[3.302696704864502, 0.615440845489502]"
     },
     "metadata": {},
     "execution_count": 60
    }
   ],
   "source": [
    "model.evaluate(x_test, y_test)"
   ]
  },
  {
   "cell_type": "code",
   "execution_count": 61,
   "metadata": {},
   "outputs": [],
   "source": [
    "model.save(\"best_model_2.h5\") "
   ]
  },
  {
   "cell_type": "code",
   "execution_count": null,
   "metadata": {},
   "outputs": [],
   "source": []
  }
 ]
}